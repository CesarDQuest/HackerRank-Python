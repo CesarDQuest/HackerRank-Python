{
 "cells": [
  {
   "cell_type": "markdown",
   "id": "c54aa3c8-e2fb-4999-9221-7cf28315cec5",
   "metadata": {},
   "source": [
    "# Print Function\n",
    "[Link to the problem](https://www.hackerrank.com/challenges/python-print/problem?isFullScreen=true)"
   ]
  },
  {
   "cell_type": "code",
   "execution_count": null,
   "id": "edfae23c-6c15-410b-8e4e-1893367390e8",
   "metadata": {},
   "outputs": [],
   "source": [
    "if __name__ == '__main__':\n",
    "    n = int(input())\n",
    "    \n",
    "for i in range(n):\n",
    "    print(i+1,sep='',end='')"
   ]
  }
 ],
 "metadata": {
  "kernelspec": {
   "display_name": "Python 3 (ipykernel)",
   "language": "python",
   "name": "python3"
  },
  "language_info": {
   "codemirror_mode": {
    "name": "ipython",
    "version": 3
   },
   "file_extension": ".py",
   "mimetype": "text/x-python",
   "name": "python",
   "nbconvert_exporter": "python",
   "pygments_lexer": "ipython3",
   "version": "3.11.4"
  }
 },
 "nbformat": 4,
 "nbformat_minor": 5
}
