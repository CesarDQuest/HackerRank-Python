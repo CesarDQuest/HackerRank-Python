{
 "cells": [
  {
   "cell_type": "markdown",
   "id": "ede5423f-7435-4ab0-b060-527971569466",
   "metadata": {},
   "source": [
    "# Arithmetic Operators\n",
    "[Link to the problem](https://www.hackerrank.com/challenges/python-arithmetic-operators/problem?isFullScreen=true)"
   ]
  },
  {
   "cell_type": "code",
   "execution_count": null,
   "id": "46faf1f0-9b30-40cc-a28b-83730d7a129f",
   "metadata": {},
   "outputs": [],
   "source": [
    "if __name__ == '__main__':\n",
    "    a = int(input())\n",
    "    b = int(input()) \n",
    "\n",
    "print(a+b)\n",
    "print(a-b)\n",
    "print(a*b)"
   ]
  }
 ],
 "metadata": {
  "kernelspec": {
   "display_name": "Python 3 (ipykernel)",
   "language": "python",
   "name": "python3"
  },
  "language_info": {
   "codemirror_mode": {
    "name": "ipython",
    "version": 3
   },
   "file_extension": ".py",
   "mimetype": "text/x-python",
   "name": "python",
   "nbconvert_exporter": "python",
   "pygments_lexer": "ipython3",
   "version": "3.11.4"
  }
 },
 "nbformat": 4,
 "nbformat_minor": 5
}
