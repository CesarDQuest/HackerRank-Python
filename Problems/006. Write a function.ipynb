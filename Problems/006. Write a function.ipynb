{
 "cells": [
  {
   "cell_type": "markdown",
   "id": "a1fa120c-f044-4982-8e1b-6be7b45861a6",
   "metadata": {},
   "source": [
    "# Write a function\n",
    "[Link to the problem](https://www.hackerrank.com/challenges/write-a-function/problem?isFullScreen=true)"
   ]
  },
  {
   "cell_type": "code",
   "execution_count": null,
   "id": "07fc2d4e-004b-4e88-8e85-40d6d04e6251",
   "metadata": {},
   "outputs": [],
   "source": [
    "def is_leap(year):\n",
    "    leap = False\n",
    "    \n",
    "    if year%4 == 0:\n",
    "        if year%100 == 0:\n",
    "            if year%400 == 0:\n",
    "                leap = True\n",
    "        else:\n",
    "            leap = True\n",
    "\n",
    "    return leap\n",
    "\n",
    "year = int(input())\n",
    "is_leap(year)"
   ]
  }
 ],
 "metadata": {
  "kernelspec": {
   "display_name": "Python 3 (ipykernel)",
   "language": "python",
   "name": "python3"
  },
  "language_info": {
   "codemirror_mode": {
    "name": "ipython",
    "version": 3
   },
   "file_extension": ".py",
   "mimetype": "text/x-python",
   "name": "python",
   "nbconvert_exporter": "python",
   "pygments_lexer": "ipython3",
   "version": "3.11.4"
  }
 },
 "nbformat": 4,
 "nbformat_minor": 5
}
