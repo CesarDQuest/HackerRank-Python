{
 "cells": [
  {
   "cell_type": "markdown",
   "id": "7ec15b38-e896-4e5c-b964-870806369465",
   "metadata": {},
   "source": [
    "# Loops\n",
    "[Link to the problem](https://www.hackerrank.com/challenges/python-loops/problem?isFullScreen=true)"
   ]
  },
  {
   "cell_type": "code",
   "execution_count": null,
   "id": "fd943d44-7c6a-46a0-a6fc-cfb41fe3e38f",
   "metadata": {},
   "outputs": [],
   "source": [
    "if __name__ == '__main__':\n",
    "    n = int(input())\n",
    "    \n",
    "for i in range(n):\n",
    "    print(i**2)"
   ]
  }
 ],
 "metadata": {
  "kernelspec": {
   "display_name": "Python 3 (ipykernel)",
   "language": "python",
   "name": "python3"
  },
  "language_info": {
   "codemirror_mode": {
    "name": "ipython",
    "version": 3
   },
   "file_extension": ".py",
   "mimetype": "text/x-python",
   "name": "python",
   "nbconvert_exporter": "python",
   "pygments_lexer": "ipython3",
   "version": "3.11.4"
  }
 },
 "nbformat": 4,
 "nbformat_minor": 5
}
