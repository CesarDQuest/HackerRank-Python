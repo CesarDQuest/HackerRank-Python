{
 "cells": [
  {
   "cell_type": "markdown",
   "id": "305784f2-2a0d-40a1-a4ba-6d1435e55996",
   "metadata": {},
   "source": [
    "# Say \"Hello, World!\" With Python\n",
    "[Link to the problem](https://www.hackerrank.com/challenges/py-hello-world/problem?isFullScreen=true)"
   ]
  },
  {
   "cell_type": "code",
   "execution_count": 1,
   "id": "a548aba9-b643-40d3-8b0e-e42ea168e68f",
   "metadata": {
    "tags": []
   },
   "outputs": [
    {
     "name": "stdout",
     "output_type": "stream",
     "text": [
      "Hello, World!\n"
     ]
    }
   ],
   "source": [
    "print('Hello, World!')"
   ]
  }
 ],
 "metadata": {
  "kernelspec": {
   "display_name": "Python 3 (ipykernel)",
   "language": "python",
   "name": "python3"
  },
  "language_info": {
   "codemirror_mode": {
    "name": "ipython",
    "version": 3
   },
   "file_extension": ".py",
   "mimetype": "text/x-python",
   "name": "python",
   "nbconvert_exporter": "python",
   "pygments_lexer": "ipython3",
   "version": "3.11.4"
  }
 },
 "nbformat": 4,
 "nbformat_minor": 5
}
