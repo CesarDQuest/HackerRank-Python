{
 "cells": [
  {
   "cell_type": "markdown",
   "id": "322ec33f-169a-4cf9-9bc4-01915f13fcdc",
   "metadata": {},
   "source": [
    "# Python If-Else\n",
    "[Link to the problem](https://www.hackerrank.com/challenges/py-if-else/problem?isFullScreen=true)"
   ]
  },
  {
   "cell_type": "code",
   "execution_count": 69,
   "id": "cbe0db64-4f51-43d2-b297-a06326b90b6d",
   "metadata": {
    "tags": []
   },
   "outputs": [
    {
     "name": "stdin",
     "output_type": "stream",
     "text": [
      " 3\n"
     ]
    },
    {
     "name": "stdout",
     "output_type": "stream",
     "text": [
      "Weird\n"
     ]
    }
   ],
   "source": [
    "import math\n",
    "import os\n",
    "import random\n",
    "import re\n",
    "import sys\n",
    "\n",
    "\n",
    "if __name__ == '__main__':\n",
    "    n = int(input().strip())\n",
    "    \n",
    "if n%2 == 1:\n",
    "    print('Weird')\n",
    "elif n>=2 and n<=5:\n",
    "    print('Not Weird')\n",
    "elif n>=6 and n<=20:\n",
    "    print('Weird')\n",
    "elif n>20:\n",
    "    print('Not Weird')"
   ]
  }
 ],
 "metadata": {
  "kernelspec": {
   "display_name": "Python 3 (ipykernel)",
   "language": "python",
   "name": "python3"
  },
  "language_info": {
   "codemirror_mode": {
    "name": "ipython",
    "version": 3
   },
   "file_extension": ".py",
   "mimetype": "text/x-python",
   "name": "python",
   "nbconvert_exporter": "python",
   "pygments_lexer": "ipython3",
   "version": "3.11.4"
  }
 },
 "nbformat": 4,
 "nbformat_minor": 5
}
